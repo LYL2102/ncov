{
 "cells": [
  {
   "cell_type": "code",
   "execution_count": null,
   "id": "e57f8480",
   "metadata": {},
   "outputs": [],
   "source": [
    "import numpy as np\n",
    "import pandas as pd\n",
    "import matplotlib.pyplot as plt\n",
    "from scipy import stats\n",
    "import seaborn as sns\n",
    "from sklearn import preprocessing\n",
    "from sklearn.metrics import r2_score"
   ]
  },
  {
   "cell_type": "code",
   "execution_count": null,
   "id": "9a224007",
   "metadata": {},
   "outputs": [],
   "source": [
    "ppath = 'D:/nCov_patient_RNAseq/experment_ncbi/experment5_split10M_len100/review/'\n",
    "infile = f'{ppath}sample_info.csv'\n",
    "indf = pd.read_csv(infile)\n",
    "print(indf.shape)\n",
    "indf.head()"
   ]
  },
  {
   "cell_type": "code",
   "execution_count": null,
   "id": "c4965728",
   "metadata": {},
   "outputs": [],
   "source": [
    "indf = indf.dropna(subset=['igg','IR'])\n",
    "print(indf.shape)\n",
    "indf.head()"
   ]
  },
  {
   "cell_type": "code",
   "execution_count": null,
   "id": "e1b2dfbc",
   "metadata": {},
   "outputs": [],
   "source": [
    "x = 'days_post_symptom_onset'   # igg,TRB_clonality,TRB_diversity,days_post_symptom_onset\n",
    "y = 'TRB_clonality'    # IR,igg,TRB_diversity,TRB_clonality\n",
    "xlabel = 'Days after recovery'\n",
    "ylabel = 'T cell clonality'\n",
    "color = 'steelblue'    # navy, mediumseagreen, steelblue\n",
    "\n",
    "s_corr = stats.spearmanr(indf[x],indf[y])\n",
    "p_corr = stats.pearsonr(indf[x],indf[y])\n",
    "print('pearson: {}\\nspearman: {}'.format(p_corr,s_corr))\n",
    "\n",
    "plt.figure(figsize=(5,5))\n",
    "para = np.polyfit(indf[x],indf[y],1)\n",
    "f = np.poly1d(para)\n",
    "r2 = r2_score(indf[y],f(indf[x]))\n",
    "lx = [indf[x].min(),indf[x].max()]\n",
    "plt.plot(lx,f(lx),'m-',linewidth=1,alpha=0.8)\n",
    "sns.scatterplot(x=x, y=y, data=indf,\n",
    "               alpha=0.9, edgecolor='k', color=color)\n",
    "plt.ylabel(ylabel, fontsize=18)\n",
    "plt.xlabel(xlabel, fontsize=18)\n",
    "#     plt.xlabel(gene, fontsize=16)\n",
    "ax = plt.axes()\n",
    "# plt.text(0.1,1.15,'Spearman Corr = {}, p = {}'.format(str('%.3g'%s_corr[0]),str('%.3g'%s_corr[1])),transform=ax.transAxes)\n",
    "# plt.text(0.1,1.1,'Pearson Corr = {}, p = {}'.format(str('%.3g'%p_corr[0]),str('%.3g'%p_corr[1])),transform=ax.transAxes)\n",
    "# plt.text(0.1,1.05,'y = '+str('%.3e'%para[0])+'*x + '+str('%.3f'%para[1])+' (R2 = '+str('%.3g'%r2)+')',transform=ax.transAxes)\n",
    "text = f'Corr={s_corr[0]:.3g}, p={s_corr[1]:.3g}'\n",
    "plt.text(0.5, 1.05, text, style='italic', transform=ax.transAxes, ha='center', fontsize=14)\n",
    "ax.spines['top'].set_visible(False)\n",
    "ax.spines['right'].set_visible(False)\n",
    "outfig = f'{ppath}results/fig4/corr.{x}~{y}.png'\n",
    "plt.savefig(outfig, dpi=500, bbox_inches='tight')\n",
    "plt.show()"
   ]
  },
  {
   "cell_type": "code",
   "execution_count": null,
   "id": "522ad2d6",
   "metadata": {},
   "outputs": [],
   "source": []
  },
  {
   "cell_type": "code",
   "execution_count": null,
   "id": "8e061608",
   "metadata": {},
   "outputs": [],
   "source": []
  }
 ],
 "metadata": {
  "kernelspec": {
   "display_name": "Python [conda env:machine_learning]",
   "language": "python",
   "name": "conda-env-machine_learning-py"
  },
  "language_info": {
   "codemirror_mode": {
    "name": "ipython",
    "version": 3
   },
   "file_extension": ".py",
   "mimetype": "text/x-python",
   "name": "python",
   "nbconvert_exporter": "python",
   "pygments_lexer": "ipython3",
   "version": "3.8.6"
  }
 },
 "nbformat": 4,
 "nbformat_minor": 5
}
